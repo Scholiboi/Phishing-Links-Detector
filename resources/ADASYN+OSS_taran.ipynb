{
 "cells": [
  {
   "cell_type": "code",
   "metadata": {
    "id": "NdXT1lVd3iNv",
    "ExecuteTime": {
     "end_time": "2025-02-05T17:14:11.826080Z",
     "start_time": "2025-02-05T17:14:11.820922Z"
    }
   },
   "source": [
    "from collections import Counter\n",
    "from sklearn.datasets import make_classification\n",
    "from imblearn.over_sampling import ADASYN\n",
    "from imblearn.under_sampling import OneSidedSelection"
   ],
   "outputs": [],
   "execution_count": 13
  },
  {
   "metadata": {
    "ExecuteTime": {
     "end_time": "2025-02-05T17:14:12.704859Z",
     "start_time": "2025-02-05T17:14:11.890514Z"
    }
   },
   "cell_type": "code",
   "source": [
    "import pandas as pd\n",
    "import numpy as np\n",
    "path='dataset_full.csv'\n",
    "data = pd.read_csv(path,encoding=\"ISO-8859-1\")\n",
    "y = data['phishing']\n",
    "X = data.drop('phishing',axis=1)\n",
    "X = X[['qty_dot_url', 'qty_hyphen_url', 'qty_underline_url', 'qty_slash_url',\n",
    "       'qty_equal_url', 'qty_at_url', 'qty_and_url', 'qty_tilde_url',\n",
    "       'qty_plus_url', 'qty_percent_url', 'qty_tld_url', 'length_url',\n",
    "       'qty_dot_domain', 'qty_hyphen_domain', 'qty_vowels_domain',\n",
    "       'domain_length', 'domain_in_ip', 'server_client_domain',\n",
    "       'qty_dot_directory', 'qty_hyphen_directory', 'qty_underline_directory',\n",
    "       'qty_slash_directory', 'qty_equal_directory', 'qty_at_directory',\n",
    "       'qty_and_directory', 'qty_exclamation_directory', 'qty_space_directory',\n",
    "       'qty_comma_directory', 'qty_plus_directory', 'qty_asterisk_directory',\n",
    "       'qty_hashtag_directory', 'qty_dollar_directory',\n",
    "       'qty_percent_directory', 'directory_length', 'qty_dot_file',\n",
    "       'qty_hyphen_file', 'qty_underline_file', 'qty_slash_file',\n",
    "       'qty_questionmark_file', 'qty_equal_file', 'qty_and_file',\n",
    "       'qty_exclamation_file', 'qty_space_file', 'qty_comma_file',\n",
    "       'qty_plus_file', 'qty_percent_file', 'file_length', 'qty_dot_params',\n",
    "       'qty_hyphen_params', 'qty_underline_params', 'qty_slash_params',\n",
    "       'qty_questionmark_params', 'qty_equal_params', 'qty_at_params',\n",
    "       'qty_and_params', 'qty_exclamation_params', 'qty_space_params',\n",
    "       'qty_tilde_params', 'qty_comma_params', 'qty_plus_params',\n",
    "       'qty_asterisk_params', 'qty_hashtag_params', 'qty_dollar_params',\n",
    "       'qty_percent_params', 'params_length', 'tld_present_params',\n",
    "       'qty_params', 'time_response', 'domain_spf', 'asn_ip',\n",
    "       'time_domain_activation', 'time_domain_expiration', 'qty_ip_resolved',\n",
    "       'qty_nameservers', 'qty_mx_servers', 'ttl_hostname',\n",
    "       'tls_ssl_certificate', 'qty_redirects', 'url_google_index',\n",
    "       'url_shortened']]\n",
    "print (X.shape)\n",
    "print( y.shape)"
   ],
   "outputs": [
    {
     "name": "stdout",
     "output_type": "stream",
     "text": [
      "(88647, 80)\n",
      "(88647,)\n"
     ]
    }
   ],
   "execution_count": 14
  },
  {
   "metadata": {
    "ExecuteTime": {
     "end_time": "2025-02-05T17:14:12.766375Z",
     "start_time": "2025-02-05T17:14:12.739204Z"
    }
   },
   "cell_type": "code",
   "source": [
    "from collections import Counter\n",
    "counter = Counter(y)\n",
    "print(counter)"
   ],
   "outputs": [
    {
     "name": "stdout",
     "output_type": "stream",
     "text": [
      "Counter({0: 58000, 1: 30647})\n"
     ]
    }
   ],
   "execution_count": 15
  },
  {
   "cell_type": "code",
   "metadata": {
    "colab": {
     "base_uri": "https://localhost:8080/"
    },
    "id": "e6HAqujl7tGs",
    "outputId": "38e2162d-6997-4dbe-d558-725fb35d28c2",
    "ExecuteTime": {
     "end_time": "2025-02-05T17:14:38.692784Z",
     "start_time": "2025-02-05T17:14:12.871390Z"
    }
   },
   "source": [
    "# First apply ADASYN to slightly oversample the minority class\n",
    "ada = ADASYN(sampling_strategy=0.67, random_state=42)  # This will create roughly 2/3 of majority class\n",
    "X_res, y_res = ada.fit_resample(X, y)\n",
    "\n",
    "# Then apply OneSidedSelection with modified parameters\n",
    "undersample = OneSidedSelection(n_neighbors=1, n_seeds_S=300)\n",
    "X_res1, y_res1 = undersample.fit_resample(X_res, y_res)\n",
    "\n",
    "#summarize the new class distribution\n",
    "print('Resampled dataset shape %s' % Counter(y_res1))"
   ],
   "outputs": [
    {
     "name": "stdout",
     "output_type": "stream",
     "text": [
      "Resampled dataset shape Counter({0: 45438, 1: 39246})\n"
     ]
    }
   ],
   "execution_count": 16
  },
  {
   "cell_type": "code",
   "metadata": {
    "colab": {
     "base_uri": "https://localhost:8080/"
    },
    "id": "L0-hZ52X7he9",
    "outputId": "5b32f800-2364-4a5d-d914-6890d03fca16",
    "ExecuteTime": {
     "end_time": "2025-02-05T17:14:38.776100Z",
     "start_time": "2025-02-05T17:14:38.749148Z"
    }
   },
   "source": [
    "from collections import Counter\n",
    "counter = Counter(y)\n",
    "print(counter)"
   ],
   "outputs": [
    {
     "name": "stdout",
     "output_type": "stream",
     "text": [
      "Counter({0: 58000, 1: 30647})\n"
     ]
    }
   ],
   "execution_count": 17
  },
  {
   "cell_type": "code",
   "metadata": {
    "colab": {
     "background_save": true,
     "base_uri": "https://localhost:8080/"
    },
    "id": "nv8p2oFRV8gM",
    "outputId": "90f79dc3-1dde-4275-d583-89a799b6180f",
    "ExecuteTime": {
     "end_time": "2025-02-05T17:15:04.301339Z",
     "start_time": "2025-02-05T17:14:38.786047Z"
    }
   },
   "source": [
    "from collections import Counter\n",
    "from sklearn.datasets import make_classification\n",
    "from imblearn.over_sampling import ADASYN\n",
    "print('Original dataset shape %s' % Counter(y))\n",
    "ada = ADASYN(sampling_strategy=0.67,random_state=42)\n",
    "X_res, y_res = ada.fit_resample(X, y)\n",
    "#define the undersampling method\n",
    "undersample = OneSidedSelection(n_neighbors=1, n_seeds_S=200)\n",
    "#transform the dataset\n",
    "X_res1, y_res1 = undersample.fit_resample(X_res, y_res)\n",
    "print('Resampled dataset shape %s' % Counter(y_res1))"
   ],
   "outputs": [
    {
     "name": "stdout",
     "output_type": "stream",
     "text": [
      "Original dataset shape Counter({0: 58000, 1: 30647})\n",
      "Resampled dataset shape Counter({0: 47592, 1: 39246})\n"
     ]
    }
   ],
   "execution_count": 18
  },
  {
   "metadata": {
    "ExecuteTime": {
     "end_time": "2025-02-05T17:15:19.036433Z",
     "start_time": "2025-02-05T17:15:04.341816Z"
    }
   },
   "cell_type": "code",
   "source": [
    "from sklearn.neighbors import KNeighborsClassifier\n",
    "from sklearn.model_selection import train_test_split\n",
    "from sklearn.preprocessing import StandardScaler\n",
    "from sklearn.metrics import classification_report,confusion_matrix\n",
    "scaler = StandardScaler()\n",
    "scaler.fit(data.drop('phishing',axis=1))\n",
    "scaled_features = scaler.transform(data.drop('phishing',axis=1))\n",
    "df_feat = pd.DataFrame(scaled_features,columns=data.columns[:-1])\n",
    "df_feat.head()\n",
    "X_train, X_test, y_train, y_test = train_test_split(scaled_features,data['phishing'],\n",
    "                test_size=0.30, random_state=42)\n",
    "knn1 = KNeighborsClassifier(n_neighbors=3)\n",
    "#X_train_res, y_train_res = ada.fit_resample(X_train, y_train.ravel())\n",
    "ada = ADASYN(sampling_strategy=0.67, random_state=42)\n",
    "undersample = OneSidedSelection(n_neighbors=1, n_seeds_S=300)\n",
    "X_train_res, y_train_res = ada.fit_resample(X_train, y_train.ravel())\n",
    "X_train_res1, y_train_res1 = undersample.fit_resample(X_train_res, y_train_res)\n",
    "knn1.fit(X_train_res1,y_train_res1.ravel())\n",
    "pred = knn1.predict(X_test)\n",
    "\n",
    "print('WITH K=3 and after balancing')\n",
    "print('\\n')\n",
    "print(confusion_matrix(y_test,pred))\n",
    "print('\\n')\n",
    "print(classification_report(y_test,pred))"
   ],
   "outputs": [
    {
     "name": "stderr",
     "output_type": "stream",
     "text": [
      "C:\\Users\\SY\\AppData\\Local\\Temp\\ipykernel_42752\\134275641.py:16: FutureWarning: Series.ravel is deprecated. The underlying array is already 1D, so ravel is not necessary.  Use `to_numpy()` for conversion to a numpy array instead.\n",
      "  X_train_res, y_train_res = ada.fit_resample(X_train, y_train.ravel())\n"
     ]
    },
    {
     "name": "stdout",
     "output_type": "stream",
     "text": [
      "WITH K=3 and after balancing\n",
      "\n",
      "\n",
      "[[16300  1149]\n",
      " [  380  8766]]\n",
      "\n",
      "\n",
      "              precision    recall  f1-score   support\n",
      "\n",
      "           0       0.98      0.93      0.96     17449\n",
      "           1       0.88      0.96      0.92      9146\n",
      "\n",
      "    accuracy                           0.94     26595\n",
      "   macro avg       0.93      0.95      0.94     26595\n",
      "weighted avg       0.95      0.94      0.94     26595\n",
      "\n"
     ]
    }
   ],
   "execution_count": 19
  },
  {
   "metadata": {
    "ExecuteTime": {
     "end_time": "2025-02-05T17:15:22.298105Z",
     "start_time": "2025-02-05T17:15:19.131791Z"
    }
   },
   "cell_type": "code",
   "source": "y_pred_proba = knn1.predict_proba(X_test)[:,1]",
   "outputs": [],
   "execution_count": 20
  },
  {
   "cell_type": "code",
   "metadata": {
    "id": "kWaeokb_Ow3L",
    "ExecuteTime": {
     "end_time": "2025-02-05T17:15:22.365385Z",
     "start_time": "2025-02-05T17:15:22.361602Z"
    }
   },
   "source": [
    "from sklearn.metrics import roc_curve"
   ],
   "outputs": [],
   "execution_count": 21
  },
  {
   "cell_type": "code",
   "metadata": {
    "id": "umOFXuw9O1HK",
    "ExecuteTime": {
     "end_time": "2025-02-05T17:15:22.492324Z",
     "start_time": "2025-02-05T17:15:22.483290Z"
    }
   },
   "source": [
    "fpr, tpr, thresholds = roc_curve(y_test, y_pred_proba)"
   ],
   "outputs": [],
   "execution_count": 22
  },
  {
   "cell_type": "code",
   "metadata": {
    "colab": {
     "base_uri": "https://localhost:8080/"
    },
    "id": "EHi9EWLrO82O",
    "outputId": "515cdab7-02f9-459b-e676-7b926537444a",
    "ExecuteTime": {
     "end_time": "2025-02-05T17:15:22.524200Z",
     "start_time": "2025-02-05T17:15:22.510980Z"
    }
   },
   "source": [
    "#Area under ROC curve\n",
    "from sklearn.metrics import roc_auc_score\n",
    "roc_auc_score(y_test,y_pred_proba)"
   ],
   "outputs": [
    {
     "data": {
      "text/plain": [
       "np.float64(0.9699977230196597)"
      ]
     },
     "execution_count": 23,
     "metadata": {},
     "output_type": "execute_result"
    }
   ],
   "execution_count": 23
  },
  {
   "cell_type": "code",
   "metadata": {
    "colab": {
     "base_uri": "https://localhost:8080/"
    },
    "id": "V3IiJF18dyoE",
    "outputId": "d2e0b9a1-1ee2-4f55-d710-57930b39a4e4",
    "ExecuteTime": {
     "end_time": "2025-02-05T17:18:20.100256Z",
     "start_time": "2025-02-05T17:15:22.578219Z"
    }
   },
   "source": [
    "from sklearn.ensemble import RandomForestClassifier\n",
    "\n",
    "from sklearn import model_selection\n",
    "# random forest model creation\n",
    "rfc = RandomForestClassifier()\n",
    "rfc.fit(X_train_res1,y_train_res1)\n",
    "# predictions\n",
    "rfc_predict = rfc.predict(X_test)\n",
    "from sklearn.model_selection import cross_val_score\n",
    "from sklearn.metrics import classification_report, confusion_matrix\n",
    "rfc_cv_score = cross_val_score(rfc, X, y, cv=10, scoring='roc_auc')\n",
    "rfc_cv_score = cross_val_score(rfc, X, y, cv=10, scoring='roc_auc')\n",
    "print(\"=== Confusion Matrix ===\")\n",
    "print(confusion_matrix(y_test, rfc_predict))\n",
    "print('\\n')\n",
    "print(\"=== Classification Report ===\")\n",
    "print(classification_report(y_test, rfc_predict))\n",
    "print('\\n')\n",
    "print(\"=== All AUC Scores ===\")\n",
    "print(rfc_cv_score)\n",
    "print('\\n')\n",
    "print(\"=== Mean AUC Score ===\")\n",
    "print(\"Mean AUC Score - Random Forest: \", rfc_cv_score.mean())"
   ],
   "outputs": [
    {
     "name": "stdout",
     "output_type": "stream",
     "text": [
      "=== Confusion Matrix ===\n",
      "[[16894   555]\n",
      " [  313  8833]]\n",
      "\n",
      "\n",
      "=== Classification Report ===\n",
      "              precision    recall  f1-score   support\n",
      "\n",
      "           0       0.98      0.97      0.97     17449\n",
      "           1       0.94      0.97      0.95      9146\n",
      "\n",
      "    accuracy                           0.97     26595\n",
      "   macro avg       0.96      0.97      0.96     26595\n",
      "weighted avg       0.97      0.97      0.97     26595\n",
      "\n",
      "\n",
      "\n",
      "=== All AUC Scores ===\n",
      "[0.99600419 0.99516417 0.99354323 0.99513723 0.99406387 0.99575384\n",
      " 0.99576447 0.9960068  0.99554073 0.99496241]\n",
      "\n",
      "\n",
      "=== Mean AUC Score ===\n",
      "Mean AUC Score - Random Forest:  0.9951940949410456\n"
     ]
    }
   ],
   "execution_count": 24
  }
 ],
 "metadata": {
  "colab": {
   "provenance": []
  },
  "kernelspec": {
   "display_name": "Python 3 (ipykernel)",
   "name": "python3",
   "language": "python"
  },
  "language_info": {
   "name": "python"
  }
 },
 "nbformat": 4,
 "nbformat_minor": 0
}
