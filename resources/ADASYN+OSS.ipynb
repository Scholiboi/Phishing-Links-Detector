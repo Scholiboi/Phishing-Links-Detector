{
 "cells": [
  {
   "cell_type": "code",
   "execution_count": 13,
   "metadata": {
    "ExecuteTime": {
     "end_time": "2025-02-05T17:14:10.261292Z",
     "start_time": "2025-02-05T17:14:10.256694Z"
    },
    "id": "NdXT1lVd3iNv"
   },
   "outputs": [],
   "source": [
    "from collections import Counter\n",
    "from sklearn.datasets import make_classification\n",
    "from imblearn.over_sampling import ADASYN\n",
    "from imblearn.under_sampling import OneSidedSelection"
   ]
  },
  {
   "cell_type": "code",
   "execution_count": 14,
   "metadata": {
    "ExecuteTime": {
     "end_time": "2025-02-05T17:14:10.846720Z",
     "start_time": "2025-02-05T17:14:10.269250Z"
    },
    "colab": {
     "base_uri": "https://localhost:8080/"
    },
    "id": "JFPAZJqh7hcr",
    "outputId": "8f396f20-6039-4044-a116-c26ebd2ee6c5"
   },
   "outputs": [
    {
     "name": "stdout",
     "output_type": "stream",
     "text": [
      "(88647, 80)\n",
      "(88647,)\n"
     ]
    }
   ],
   "source": [
    "import pandas as pd\n",
    "import numpy as np\n",
    "path='dataset_full.csv'\n",
    "data = pd.read_csv(path,encoding=\"ISO-8859-1\")\n",
    "y = data['phishing']\n",
    "X = data.drop('phishing', axis=1)\n",
    "X = X[['qty_dot_url', 'qty_hyphen_url', 'qty_underline_url', 'qty_slash_url',\n",
    "       'qty_equal_url', 'qty_at_url', 'qty_and_url', 'qty_tilde_url',\n",
    "       'qty_plus_url', 'qty_percent_url', 'qty_tld_url', 'length_url',\n",
    "       'qty_dot_domain', 'qty_hyphen_domain', 'qty_vowels_domain',\n",
    "       'domain_length', 'domain_in_ip', 'server_client_domain',\n",
    "       'qty_dot_directory', 'qty_hyphen_directory', 'qty_underline_directory',\n",
    "       'qty_slash_directory', 'qty_equal_directory', 'qty_at_directory',\n",
    "       'qty_and_directory', 'qty_exclamation_directory', 'qty_space_directory',\n",
    "       'qty_comma_directory', 'qty_plus_directory', 'qty_asterisk_directory',\n",
    "       'qty_hashtag_directory', 'qty_dollar_directory',\n",
    "       'qty_percent_directory', 'directory_length', 'qty_dot_file',\n",
    "       'qty_hyphen_file', 'qty_underline_file', 'qty_slash_file',\n",
    "       'qty_questionmark_file', 'qty_equal_file', 'qty_and_file',\n",
    "       'qty_exclamation_file', 'qty_space_file', 'qty_comma_file',\n",
    "       'qty_plus_file', 'qty_percent_file', 'file_length', 'qty_dot_params',\n",
    "       'qty_hyphen_params', 'qty_underline_params', 'qty_slash_params',\n",
    "       'qty_questionmark_params', 'qty_equal_params', 'qty_at_params',\n",
    "       'qty_and_params', 'qty_exclamation_params', 'qty_space_params',\n",
    "       'qty_tilde_params', 'qty_comma_params', 'qty_plus_params',\n",
    "       'qty_asterisk_params', 'qty_hashtag_params', 'qty_dollar_params',\n",
    "       'qty_percent_params', 'params_length', 'tld_present_params',\n",
    "       'qty_params', 'time_response', 'domain_spf', 'asn_ip',\n",
    "       'time_domain_activation', 'time_domain_expiration', 'qty_ip_resolved',\n",
    "       'qty_nameservers', 'qty_mx_servers', 'ttl_hostname',\n",
    "       'tls_ssl_certificate', 'qty_redirects', 'url_google_index',\n",
    "       'url_shortened']]\n",
    "print (X.shape)\n",
    "print( y.shape)"
   ]
  },
  {
   "cell_type": "code",
   "execution_count": 15,
   "metadata": {
    "ExecuteTime": {
     "end_time": "2025-02-05T17:14:10.932548Z",
     "start_time": "2025-02-05T17:14:10.911033Z"
    },
    "colab": {
     "base_uri": "https://localhost:8080/"
    },
    "id": "HN8Bgr7k7_P0",
    "outputId": "95f9bc35-280c-40c3-a22c-0b3b55292a95"
   },
   "outputs": [
    {
     "name": "stdout",
     "output_type": "stream",
     "text": [
      "Counter({0: 58000, 1: 30647})\n"
     ]
    }
   ],
   "source": [
    "from collections import Counter\n",
    "counter = Counter(y)\n",
    "print(counter)"
   ]
  },
  {
   "cell_type": "code",
   "execution_count": 16,
   "metadata": {
    "ExecuteTime": {
     "end_time": "2025-02-05T17:14:32.223164Z",
     "start_time": "2025-02-05T17:14:10.977802Z"
    },
    "colab": {
     "base_uri": "https://localhost:8080/"
    },
    "id": "e6HAqujl7tGs",
    "outputId": "38e2162d-6997-4dbe-d558-725fb35d28c2"
   },
   "outputs": [
    {
     "name": "stdout",
     "output_type": "stream",
     "text": [
      "Resampled dataset shape Counter({1: 48853, 0: 47228})\n"
     ]
    }
   ],
   "source": [
    "#define the undersampling method\n",
    "undersample = OneSidedSelection(n_neighbors=1, n_seeds_S=200)\n",
    "#transform the dataset\n",
    "X_res, y_res = undersample.fit_resample(X, y)\n",
    "ada = ADASYN(random_state=42)\n",
    "X_res1, y_res1 = ada.fit_resample(X_res, y_res)\n",
    "#summarize the new class distribution\n",
    "print('Resampled dataset shape %s' % Counter(y_res1))"
   ]
  },
  {
   "cell_type": "code",
   "execution_count": 17,
   "metadata": {
    "ExecuteTime": {
     "end_time": "2025-02-05T17:14:32.301938Z",
     "start_time": "2025-02-05T17:14:32.279003Z"
    },
    "colab": {
     "base_uri": "https://localhost:8080/"
    },
    "id": "L0-hZ52X7he9",
    "outputId": "5b32f800-2364-4a5d-d914-6890d03fca16"
   },
   "outputs": [
    {
     "name": "stdout",
     "output_type": "stream",
     "text": [
      "Counter({0: 58000, 1: 30647})\n"
     ]
    }
   ],
   "source": [
    "from collections import Counter\n",
    "counter = Counter(y)\n",
    "print(counter)"
   ]
  },
  {
   "cell_type": "code",
   "execution_count": 18,
   "metadata": {
    "ExecuteTime": {
     "end_time": "2025-02-05T17:15:09.696603Z",
     "start_time": "2025-02-05T17:14:32.351491Z"
    },
    "colab": {
     "background_save": true,
     "base_uri": "https://localhost:8080/"
    },
    "id": "nv8p2oFRV8gM",
    "outputId": "90f79dc3-1dde-4275-d583-89a799b6180f"
   },
   "outputs": [
    {
     "name": "stdout",
     "output_type": "stream",
     "text": [
      "Original dataset shape Counter({0: 58000, 1: 30647})\n",
      "Resampled dataset shape Counter({0: 58000, 1: 54753})\n"
     ]
    }
   ],
   "source": [
    "from collections import Counter\n",
    "from sklearn.datasets import make_classification\n",
    "from imblearn.over_sampling import ADASYN\n",
    "print('Original dataset shape %s' % Counter(y))\n",
    "ada = ADASYN(random_state=42)\n",
    "X_res, y_res = ada.fit_resample(X, y)\n",
    "#define the undersampling method\n",
    "undersample = OneSidedSelection(n_neighbors=1, n_seeds_S=200)\n",
    "#transform the dataset\n",
    "X_res1, y_res1 = undersample.fit_resample(X_res, y_res)\n",
    "print('Resampled dataset shape %s' % Counter(y_res1))"
   ]
  },
  {
   "cell_type": "code",
   "execution_count": 19,
   "metadata": {
    "ExecuteTime": {
     "end_time": "2025-02-05T17:15:21.688180Z",
     "start_time": "2025-02-05T17:15:09.744465Z"
    },
    "colab": {
     "base_uri": "https://localhost:8080/"
    },
    "id": "DmkE-nDiZ6qn",
    "outputId": "b676d186-6994-47ff-a457-24c367a1b3a0"
   },
   "outputs": [
    {
     "name": "stderr",
     "output_type": "stream",
     "text": [
      "C:\\Users\\SY\\AppData\\Local\\Temp\\ipykernel_4388\\3517366961.py:14: FutureWarning: Series.ravel is deprecated. The underlying array is already 1D, so ravel is not necessary.  Use `to_numpy()` for conversion to a numpy array instead.\n",
      "  X_train_res, y_train_res = undersample.fit_resample(X_train, y_train.ravel())\n"
     ]
    },
    {
     "name": "stdout",
     "output_type": "stream",
     "text": [
      "WITH K=3 and after balancing\n",
      "\n",
      "\n",
      "[[16933   414]\n",
      " [  959  8289]]\n",
      "\n",
      "\n",
      "              precision    recall  f1-score   support\n",
      "\n",
      "           0       0.95      0.98      0.96     17347\n",
      "           1       0.95      0.90      0.92      9248\n",
      "\n",
      "    accuracy                           0.95     26595\n",
      "   macro avg       0.95      0.94      0.94     26595\n",
      "weighted avg       0.95      0.95      0.95     26595\n",
      "\n"
     ]
    }
   ],
   "source": [
    "from sklearn.neighbors import KNeighborsClassifier\n",
    "from sklearn.model_selection import train_test_split\n",
    "from sklearn.preprocessing import StandardScaler\n",
    "from sklearn.metrics import classification_report,confusion_matrix\n",
    "scaler = StandardScaler()\n",
    "scaler.fit(data.drop('phishing',axis=1))\n",
    "scaled_features = scaler.transform(data.drop('phishing',axis=1))\n",
    "df_feat = pd.DataFrame(scaled_features,columns=data.columns[:-1])\n",
    "df_feat.head()\n",
    "X_train, X_test, y_train, y_test = train_test_split(scaled_features,data['phishing'], test_size=0.30)\n",
    "knn1 = KNeighborsClassifier(n_neighbors=3)\n",
    "#X_train_res, y_train_res = ada.fit_resample(X_train, y_train.ravel())\n",
    "undersample = OneSidedSelection(n_neighbors=1, n_seeds_S=200)\n",
    "X_train_res, y_train_res = undersample.fit_resample(X_train, y_train.ravel())\n",
    "X_train_res1, y_train_res1 = ada.fit_resample(X_train_res, y_train_res.ravel())\n",
    "knn1.fit(X_train_res1,y_train_res1.ravel())\n",
    "pred = knn1.predict(X_test)\n",
    "\n",
    "print('WITH K=3 and after balancing')\n",
    "print('\\n')\n",
    "print(confusion_matrix(y_test,pred))\n",
    "print('\\n')\n",
    "print(classification_report(y_test,pred))"
   ]
  },
  {
   "cell_type": "code",
   "execution_count": 20,
   "metadata": {
    "ExecuteTime": {
     "end_time": "2025-02-05T17:15:23.987927Z",
     "start_time": "2025-02-05T17:15:21.816635Z"
    },
    "id": "KsKFI0LqIqDm"
   },
   "outputs": [],
   "source": [
    "y_pred_proba = knn1.predict_proba(X_test)[:,1]"
   ]
  },
  {
   "cell_type": "code",
   "execution_count": 21,
   "metadata": {
    "ExecuteTime": {
     "end_time": "2025-02-05T17:15:23.998696Z",
     "start_time": "2025-02-05T17:15:23.994185Z"
    },
    "id": "kWaeokb_Ow3L"
   },
   "outputs": [],
   "source": [
    "from sklearn.metrics import roc_curve"
   ]
  },
  {
   "cell_type": "code",
   "execution_count": 22,
   "metadata": {
    "ExecuteTime": {
     "end_time": "2025-02-05T17:15:24.045209Z",
     "start_time": "2025-02-05T17:15:24.039129Z"
    },
    "id": "umOFXuw9O1HK"
   },
   "outputs": [],
   "source": [
    "fpr, tpr, thresholds = roc_curve(y_test, y_pred_proba)"
   ]
  },
  {
   "cell_type": "code",
   "execution_count": 23,
   "metadata": {
    "ExecuteTime": {
     "end_time": "2025-02-05T17:15:24.089276Z",
     "start_time": "2025-02-05T17:15:24.079467Z"
    },
    "colab": {
     "base_uri": "https://localhost:8080/"
    },
    "id": "EHi9EWLrO82O",
    "outputId": "515cdab7-02f9-459b-e676-7b926537444a"
   },
   "outputs": [
    {
     "data": {
      "text/plain": [
       "np.float64(0.9647431165615427)"
      ]
     },
     "execution_count": 23,
     "metadata": {},
     "output_type": "execute_result"
    }
   ],
   "source": [
    "#Area under ROC curve\n",
    "from sklearn.metrics import roc_auc_score\n",
    "roc_auc_score(y_test,y_pred_proba)"
   ]
  },
  {
   "cell_type": "code",
   "execution_count": 24,
   "metadata": {
    "ExecuteTime": {
     "end_time": "2025-02-05T17:18:20.068738Z",
     "start_time": "2025-02-05T17:15:24.116148Z"
    },
    "colab": {
     "base_uri": "https://localhost:8080/"
    },
    "id": "V3IiJF18dyoE",
    "outputId": "d2e0b9a1-1ee2-4f55-d710-57930b39a4e4"
   },
   "outputs": [
    {
     "name": "stdout",
     "output_type": "stream",
     "text": [
      "=== Confusion Matrix ===\n",
      "[[16943   404]\n",
      " [  451  8797]]\n",
      "\n",
      "\n",
      "=== Classification Report ===\n",
      "              precision    recall  f1-score   support\n",
      "\n",
      "           0       0.97      0.98      0.98     17347\n",
      "           1       0.96      0.95      0.95      9248\n",
      "\n",
      "    accuracy                           0.97     26595\n",
      "   macro avg       0.97      0.96      0.96     26595\n",
      "weighted avg       0.97      0.97      0.97     26595\n",
      "\n",
      "\n",
      "\n",
      "=== All AUC Scores ===\n",
      "[0.99588468 0.99501893 0.99447871 0.99483771 0.99341928 0.99590569\n",
      " 0.99553145 0.99574691 0.99579513 0.9957273 ]\n",
      "\n",
      "\n",
      "=== Mean AUC Score ===\n",
      "Mean AUC Score - Random Forest:  0.9952345793002545\n"
     ]
    }
   ],
   "source": [
    "from sklearn.ensemble import RandomForestClassifier\n",
    "\n",
    "from sklearn import model_selection\n",
    "# random forest model creation\n",
    "rfc = RandomForestClassifier()\n",
    "rfc.fit(X_train_res1,y_train_res1)\n",
    "# predictions\n",
    "rfc_predict = rfc.predict(X_test)\n",
    "from sklearn.model_selection import cross_val_score\n",
    "from sklearn.metrics import classification_report, confusion_matrix\n",
    "rfc_cv_score = cross_val_score(rfc, X, y, cv=10, scoring='roc_auc')\n",
    "rfc_cv_score = cross_val_score(rfc, X, y, cv=10, scoring='roc_auc')\n",
    "print(\"=== Confusion Matrix ===\")\n",
    "print(confusion_matrix(y_test, rfc_predict))\n",
    "print('\\n')\n",
    "print(\"=== Classification Report ===\")\n",
    "print(classification_report(y_test, rfc_predict))\n",
    "print('\\n')\n",
    "print(\"=== All AUC Scores ===\")\n",
    "print(rfc_cv_score)\n",
    "print('\\n')\n",
    "print(\"=== Mean AUC Score ===\")\n",
    "print(\"Mean AUC Score - Random Forest: \", rfc_cv_score.mean())"
   ]
  }
 ],
 "metadata": {
  "colab": {
   "provenance": []
  },
  "kernelspec": {
   "display_name": ".venv",
   "language": "python",
   "name": "python3"
  },
  "language_info": {
   "name": "python",
   "version": "3.12.7"
  }
 },
 "nbformat": 4,
 "nbformat_minor": 0
}
